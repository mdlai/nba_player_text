{
 "cells": [
  {
   "cell_type": "code",
   "execution_count": 1,
   "metadata": {
    "collapsed": false
   },
   "outputs": [
    {
     "name": "stderr",
     "output_type": "stream",
     "text": [
      "/home/michael/anaconda2/lib/python2.7/site-packages/matplotlib/font_manager.py:273: UserWarning: Matplotlib is building the font cache using fc-list. This may take a moment.\n",
      "  warnings.warn('Matplotlib is building the font cache using fc-list. This may take a moment.')\n"
     ]
    }
   ],
   "source": [
    "import pandas as pd\n",
    "import numpy as np\n",
    "import re\n",
    "import operator\n",
    "\n",
    "import matplotlib.pyplot as plt\n",
    "import matplotlib as mpl\n",
    "\n",
    "%matplotlib inline"
   ]
  },
  {
   "cell_type": "code",
   "execution_count": 2,
   "metadata": {
    "collapsed": false,
    "scrolled": true
   },
   "outputs": [],
   "source": [
    "from spacy.parts_of_speech import ADV\n",
    "from spacy.en import English\n",
    "parser = English()"
   ]
  },
  {
   "cell_type": "code",
   "execution_count": 3,
   "metadata": {
    "collapsed": true
   },
   "outputs": [],
   "source": [
    "stopwords = ['digital','format','video','interview','analysis','technology','be','high','free']"
   ]
  },
  {
   "cell_type": "code",
   "execution_count": 4,
   "metadata": {
    "collapsed": false
   },
   "outputs": [],
   "source": [
    "players = pd.read_csv('players.csv',dtype={'Pick':str})"
   ]
  },
  {
   "cell_type": "code",
   "execution_count": 5,
   "metadata": {
    "collapsed": false
   },
   "outputs": [
    {
     "data": {
      "text/html": [
       "<div>\n",
       "<table border=\"1\" class=\"dataframe\">\n",
       "  <thead>\n",
       "    <tr style=\"text-align: right;\">\n",
       "      <th></th>\n",
       "      <th>Year</th>\n",
       "      <th>Pick</th>\n",
       "      <th>Drafted</th>\n",
       "      <th>Traded to</th>\n",
       "      <th>Name</th>\n",
       "      <th>Height</th>\n",
       "      <th>Weight</th>\n",
       "      <th>College</th>\n",
       "      <th>Birthday</th>\n",
       "      <th>Comment</th>\n",
       "      <th>RSCI</th>\n",
       "      <th>Position</th>\n",
       "      <th>StandingReach</th>\n",
       "      <th>Wingspan</th>\n",
       "      <th>Vertical</th>\n",
       "      <th>Text</th>\n",
       "    </tr>\n",
       "  </thead>\n",
       "  <tbody>\n",
       "    <tr>\n",
       "      <th>70</th>\n",
       "      <td>2014</td>\n",
       "      <td>1.11</td>\n",
       "      <td>Bulls</td>\n",
       "      <td></td>\n",
       "      <td>Doug McDermott</td>\n",
       "      <td>6'8</td>\n",
       "      <td>218</td>\n",
       "      <td>Creighton</td>\n",
       "      <td>1992-01-03</td>\n",
       "      <td></td>\n",
       "      <td>&amp;nbsp</td>\n",
       "      <td>SF/PF</td>\n",
       "      <td>8' 7\"</td>\n",
       "      <td>6' 9.25\"</td>\n",
       "      <td>36.5</td>\n",
       "      <td>Doug McDermott had one of the best statistica...</td>\n",
       "    </tr>\n",
       "  </tbody>\n",
       "</table>\n",
       "</div>"
      ],
      "text/plain": [
       "    Year  Pick Drafted Traded to            Name Height Weight    College  \\\n",
       "70  2014  1.11   Bulls            Doug McDermott    6'8    218  Creighton   \n",
       "\n",
       "      Birthday Comment   RSCI Position StandingReach  Wingspan  Vertical  \\\n",
       "70  1992-01-03          &nbsp    SF/PF         8' 7\"  6' 9.25\"      36.5   \n",
       "\n",
       "                                                 Text  \n",
       "70   Doug McDermott had one of the best statistica...  "
      ]
     },
     "execution_count": 5,
     "metadata": {},
     "output_type": "execute_result"
    }
   ],
   "source": [
    "players[players['Name']==\"Doug McDermott\"]"
   ]
  },
  {
   "cell_type": "code",
   "execution_count": 6,
   "metadata": {
    "collapsed": false
   },
   "outputs": [],
   "source": [
    "players['Pick'] = map(lambda x: (int(x.split('.')[0])-1)*30 + int(x.split('.')[1]), players['Pick'].astype(str))"
   ]
  },
  {
   "cell_type": "code",
   "execution_count": 7,
   "metadata": {
    "collapsed": true
   },
   "outputs": [],
   "source": [
    "players['Height'] = map(lambda x: x.strip('\"'),players['Height'])"
   ]
  },
  {
   "cell_type": "code",
   "execution_count": 8,
   "metadata": {
    "collapsed": true
   },
   "outputs": [],
   "source": [
    "players = players[players['Text'].notnull()]"
   ]
  },
  {
   "cell_type": "code",
   "execution_count": 9,
   "metadata": {
    "collapsed": false
   },
   "outputs": [],
   "source": [
    "players['Text'] = map(lambda x: x.strip(' '), players['Text'])\n",
    "players['Text'].replace('',np.nan,inplace=True)"
   ]
  },
  {
   "cell_type": "code",
   "execution_count": 10,
   "metadata": {
    "collapsed": false
   },
   "outputs": [],
   "source": [
    "def convert_length(length):\n",
    "    '''\n",
    "    Returns length in inches\n",
    "    '''\n",
    "    try:\n",
    "        length = length.strip('\"')\n",
    "        length = (float(length.split(\"'\")[0]))*12 + float(length.split(\"'\")[1])\n",
    "    except:\n",
    "        pass\n",
    "    return length\n",
    "\n",
    "def convert_position(position):\n",
    "    position = position.split('/')\n",
    "    POSITIONS = {'C':5,'PF':4,'SF':3,'F':3,'SG':2,'PG':1,'G':1}\n",
    "    for i, pos in enumerate(position):\n",
    "        position[i] = POSITIONS[pos]\n",
    "    return np.mean(position)"
   ]
  },
  {
   "cell_type": "code",
   "execution_count": 11,
   "metadata": {
    "collapsed": false
   },
   "outputs": [],
   "source": [
    "players['Height'] = map(convert_length, players['Height'])\n",
    "players['StandingReach'] = map(convert_length, players['StandingReach'])\n",
    "players['Wingspan'] = map(convert_length, players['Wingspan'])\n",
    "players['Position'] = map(convert_position, players['Position'])"
   ]
  },
  {
   "cell_type": "code",
   "execution_count": 12,
   "metadata": {
    "collapsed": false
   },
   "outputs": [],
   "source": [
    "players = players[players['Text'].notnull()]"
   ]
  },
  {
   "cell_type": "code",
   "execution_count": 13,
   "metadata": {
    "collapsed": false
   },
   "outputs": [],
   "source": [
    "cleaned = players[players['Text'].notnull()]"
   ]
  },
  {
   "cell_type": "code",
   "execution_count": 14,
   "metadata": {
    "collapsed": false
   },
   "outputs": [],
   "source": [
    "cleaned.index = range(len(cleaned))"
   ]
  },
  {
   "cell_type": "code",
   "execution_count": 15,
   "metadata": {
    "collapsed": false,
    "scrolled": false
   },
   "outputs": [],
   "source": [
    "cleaned['Parsed'] = map(lambda x: parser(x.decode('utf-8')), cleaned['Text'])"
   ]
  },
  {
   "cell_type": "code",
   "execution_count": 193,
   "metadata": {
    "collapsed": false
   },
   "outputs": [],
   "source": [
    "def tokenize_and_stem(text):\n",
    "    tokens = parser(text)\n",
    "    stems = []\n",
    "    for token in tokens:\n",
    "        if not token.is_stop and token.is_alpha and (token.pos_=='ADJ') and token.head.is_alpha:\n",
    "            stems.append(token.lemma_)\n",
    "            stems.append(token.head.lemma_)\n",
    "    return stems\n",
    "\n",
    "def tokenize_and_stem_filter_parsed(text):\n",
    "    tokens = text\n",
    "    stems = []\n",
    "    for token in tokens:\n",
    "        if not token.is_stop and token.is_alpha and (token.pos_=='ADJ') and token.head.is_alpha and (token.lemma_ not in stopwords):\n",
    "            stems.append(token.lemma_)\n",
    "            stems.append(token.head.lemma_)\n",
    "    return stems\n",
    "\n",
    "def tokenize_and_stem_parsed(text):\n",
    "    tokens = text\n",
    "    stems = []\n",
    "    for token in tokens:\n",
    "        if not token.is_stop and token.is_alpha and (token.lemma_ not in stopwords):\n",
    "            stems.append(token.lemma_)\n",
    "    return stems\n",
    "\n",
    "def tokenize_only(text):\n",
    "    tokens = [word for sent in nltk.sent_tokenize(text) for word in nltk.word_tokenize(sent)]\n",
    "    filtered_tokens = []\n",
    "    \n",
    "    for token in tokens:\n",
    "        if re.search('[a-zA-Z]',token):\n",
    "            filtered_tokens.append(token)\n",
    "    return filtered_tokens\n",
    "\n",
    "\n",
    "### FIND THE PLAYERS THAT SHOW A WORD MOST FREQUENTLY\n",
    "def word_filter(text,word,other_word):\n",
    "    tokens = text\n",
    "    stems = []\n",
    "    for idx, token in enumerate(tokens):\n",
    "        try:\n",
    "            if token.lemma_ == word and tokens[idx+1].lemma_ == other_word:\n",
    "                stems.append(token.lemma_)\n",
    "        except:\n",
    "            pass\n",
    "    return stems\n",
    "\n",
    "def word_counter(df,word,other_word):\n",
    "    counter = {}\n",
    "    for i in range(len(df)):\n",
    "        counter[df['Name'][i]] = len(word_filter(df['Parsed'][i],word,other_word))\n",
    "    return counter\n",
    "\n",
    "def year_counter(df,word,other_word):\n",
    "    counter = {}\n",
    "    for i in range(len(df)):\n",
    "        counter[df['Year'][i]] = counter.get(df['Year'][i],0) + len(word_filter(df['Parsed'][i],word,other_word))\n",
    "    return counter\n",
    "\n",
    "\n",
    "### COUNT THE NUMBER OF WORDS THAT APPEARS IN EACH PLAYERS DESCRIPTION\n",
    "def word_counts(tokens):\n",
    "    counter = {}\n",
    "    for word in tokens:\n",
    "        if not word.is_stop and word.is_alpha and (word.pos_=='ADJ') and (word.lemma_ not in stopwords):\n",
    "            counter[word.lemma_] = counter.get(word.lemma_,0) + 1\n",
    "    return counter\n",
    "\n",
    "def most_frequent(tokens,length=3):\n",
    "    return dict(sorted(word_counts(tokens).iteritems(), key=operator.itemgetter(1), reverse=True)[:length])"
   ]
  },
  {
   "cell_type": "code",
   "execution_count": 17,
   "metadata": {
    "collapsed": false
   },
   "outputs": [
    {
     "data": {
      "text/plain": [
       "{u'impressive': 6, u'interesting': 3, u'physical': 3}"
      ]
     },
     "execution_count": 17,
     "metadata": {},
     "output_type": "execute_result"
    }
   ],
   "source": [
    "most_frequent(cleaned['Parsed'][0])"
   ]
  },
  {
   "cell_type": "code",
   "execution_count": 18,
   "metadata": {
    "collapsed": false
   },
   "outputs": [],
   "source": [
    "cleaned['Frequent'] = map(lambda x: most_frequent(x,3), cleaned['Parsed'])"
   ]
  },
  {
   "cell_type": "code",
   "execution_count": 19,
   "metadata": {
    "collapsed": true
   },
   "outputs": [
    {
     "data": {
      "text/html": [
       "<div>\n",
       "<table border=\"1\" class=\"dataframe\">\n",
       "  <thead>\n",
       "    <tr style=\"text-align: right;\">\n",
       "      <th></th>\n",
       "      <th>Year</th>\n",
       "      <th>Pick</th>\n",
       "      <th>Drafted</th>\n",
       "      <th>Traded to</th>\n",
       "      <th>Name</th>\n",
       "      <th>Height</th>\n",
       "      <th>Weight</th>\n",
       "      <th>College</th>\n",
       "      <th>Birthday</th>\n",
       "      <th>Comment</th>\n",
       "      <th>RSCI</th>\n",
       "      <th>Position</th>\n",
       "      <th>StandingReach</th>\n",
       "      <th>Wingspan</th>\n",
       "      <th>Vertical</th>\n",
       "      <th>Text</th>\n",
       "      <th>Parsed</th>\n",
       "      <th>Frequent</th>\n",
       "    </tr>\n",
       "  </thead>\n",
       "  <tbody>\n",
       "    <tr>\n",
       "      <th>0</th>\n",
       "      <td>2015</td>\n",
       "      <td>1</td>\n",
       "      <td>Timberwolves</td>\n",
       "      <td></td>\n",
       "      <td>Karl Towns</td>\n",
       "      <td>84</td>\n",
       "      <td>248</td>\n",
       "      <td>Kentucky</td>\n",
       "      <td>1995-11-15</td>\n",
       "      <td></td>\n",
       "      <td>7</td>\n",
       "      <td>4.5</td>\n",
       "      <td>109.0</td>\n",
       "      <td>87.25</td>\n",
       "      <td>36.5</td>\n",
       "      <td>A breakdown of last night's head to head match...</td>\n",
       "      <td>(A , breakdown , of , last , night, 's , head ...</td>\n",
       "      <td>{u'interesting': 3, u'impressive': 6, u'physic...</td>\n",
       "    </tr>\n",
       "    <tr>\n",
       "      <th>1</th>\n",
       "      <td>2015</td>\n",
       "      <td>2</td>\n",
       "      <td>LA Lakers</td>\n",
       "      <td></td>\n",
       "      <td>D'Angelo Russell</td>\n",
       "      <td>77</td>\n",
       "      <td>193</td>\n",
       "      <td>Ohio State</td>\n",
       "      <td>1996-02-23</td>\n",
       "      <td></td>\n",
       "      <td>16</td>\n",
       "      <td>1.5</td>\n",
       "      <td>102.0</td>\n",
       "      <td>81.75</td>\n",
       "      <td>NaN</td>\n",
       "      <td>A breakdown of last night's head to head match...</td>\n",
       "      <td>(A , breakdown , of , last , night, 's , head ...</td>\n",
       "      <td>{u'heavy': 1, u'new': 2, u'elite': 2}</td>\n",
       "    </tr>\n",
       "    <tr>\n",
       "      <th>2</th>\n",
       "      <td>2015</td>\n",
       "      <td>3</td>\n",
       "      <td>Philadelphia</td>\n",
       "      <td></td>\n",
       "      <td>Jahlil Okafor</td>\n",
       "      <td>83</td>\n",
       "      <td>272</td>\n",
       "      <td>Duke</td>\n",
       "      <td>1995-12-15</td>\n",
       "      <td></td>\n",
       "      <td>2</td>\n",
       "      <td>5.0</td>\n",
       "      <td>110.5</td>\n",
       "      <td>89.00</td>\n",
       "      <td>NaN</td>\n",
       "      <td>That isn't to say that there isn't a place for...</td>\n",
       "      <td>(That , is, n't , to , say , that , there , is...</td>\n",
       "      <td>{u'major': 3, u'good': 4, u'old': 4}</td>\n",
       "    </tr>\n",
       "    <tr>\n",
       "      <th>3</th>\n",
       "      <td>2015</td>\n",
       "      <td>4</td>\n",
       "      <td>Knicks</td>\n",
       "      <td></td>\n",
       "      <td>Kristaps Porzingis</td>\n",
       "      <td>84</td>\n",
       "      <td>230</td>\n",
       "      <td>Sevilla</td>\n",
       "      <td>1995-08-02</td>\n",
       "      <td></td>\n",
       "      <td>&amp;nbsp</td>\n",
       "      <td>4.0</td>\n",
       "      <td>NaN</td>\n",
       "      <td>NaN</td>\n",
       "      <td>NaN</td>\n",
       "      <td>Mike Schmitz breaks down Kristaps Porzingis' e...</td>\n",
       "      <td>(Mike , Schmitz , breaks , down , Kristaps , P...</td>\n",
       "      <td>{u'exclusive': 1, u'unique': 1, u'impressive': 2}</td>\n",
       "    </tr>\n",
       "    <tr>\n",
       "      <th>4</th>\n",
       "      <td>2015</td>\n",
       "      <td>5</td>\n",
       "      <td>Magic</td>\n",
       "      <td></td>\n",
       "      <td>Mario Hezonja</td>\n",
       "      <td>80</td>\n",
       "      <td>200</td>\n",
       "      <td>Barcelona</td>\n",
       "      <td>1995-02-25</td>\n",
       "      <td></td>\n",
       "      <td>&amp;nbsp</td>\n",
       "      <td>2.5</td>\n",
       "      <td>NaN</td>\n",
       "      <td>NaN</td>\n",
       "      <td>NaN</td>\n",
       "      <td>Analyzing the play of Mario Hezonja in Game on...</td>\n",
       "      <td>(Analyzing , the , play , of , Mario , Hezonja...</td>\n",
       "      <td>{u'poor': 3, u'spanish': 3, u'nice': 4}</td>\n",
       "    </tr>\n",
       "  </tbody>\n",
       "</table>\n",
       "</div>"
      ],
      "text/plain": [
       "   Year  Pick       Drafted Traded to                Name Height Weight  \\\n",
       "0  2015     1  Timberwolves                    Karl Towns     84    248   \n",
       "1  2015     2     LA Lakers              D'Angelo Russell     77    193   \n",
       "2  2015     3  Philadelphia                 Jahlil Okafor     83    272   \n",
       "3  2015     4        Knicks            Kristaps Porzingis     84    230   \n",
       "4  2015     5         Magic                 Mario Hezonja     80    200   \n",
       "\n",
       "      College    Birthday Comment   RSCI  Position  StandingReach  Wingspan  \\\n",
       "0    Kentucky  1995-11-15              7       4.5          109.0     87.25   \n",
       "1  Ohio State  1996-02-23             16       1.5          102.0     81.75   \n",
       "2        Duke  1995-12-15              2       5.0          110.5     89.00   \n",
       "3     Sevilla  1995-08-02          &nbsp       4.0            NaN       NaN   \n",
       "4   Barcelona  1995-02-25          &nbsp       2.5            NaN       NaN   \n",
       "\n",
       "   Vertical                                               Text  \\\n",
       "0      36.5  A breakdown of last night's head to head match...   \n",
       "1       NaN  A breakdown of last night's head to head match...   \n",
       "2       NaN  That isn't to say that there isn't a place for...   \n",
       "3       NaN  Mike Schmitz breaks down Kristaps Porzingis' e...   \n",
       "4       NaN  Analyzing the play of Mario Hezonja in Game on...   \n",
       "\n",
       "                                              Parsed  \\\n",
       "0  (A , breakdown , of , last , night, 's , head ...   \n",
       "1  (A , breakdown , of , last , night, 's , head ...   \n",
       "2  (That , is, n't , to , say , that , there , is...   \n",
       "3  (Mike , Schmitz , breaks , down , Kristaps , P...   \n",
       "4  (Analyzing , the , play , of , Mario , Hezonja...   \n",
       "\n",
       "                                            Frequent  \n",
       "0  {u'interesting': 3, u'impressive': 6, u'physic...  \n",
       "1              {u'heavy': 1, u'new': 2, u'elite': 2}  \n",
       "2               {u'major': 3, u'good': 4, u'old': 4}  \n",
       "3  {u'exclusive': 1, u'unique': 1, u'impressive': 2}  \n",
       "4            {u'poor': 3, u'spanish': 3, u'nice': 4}  "
      ]
     },
     "execution_count": 19,
     "metadata": {},
     "output_type": "execute_result"
    }
   ],
   "source": [
    "cleaned.head()"
   ]
  },
  {
   "cell_type": "code",
   "execution_count": 20,
   "metadata": {
    "collapsed": true
   },
   "outputs": [],
   "source": [
    "# iq, crafty"
   ]
  },
  {
   "cell_type": "code",
   "execution_count": 196,
   "metadata": {
    "collapsed": false,
    "scrolled": false
   },
   "outputs": [
    {
     "name": "stdout",
     "output_type": "stream",
     "text": [
      "2000 0\n",
      "2001 0\n",
      "2002 1\n",
      "2003 0\n",
      "2004 0\n",
      "2005 1\n",
      "2006 4\n",
      "2007 5\n",
      "2008 2\n",
      "2009 2\n",
      "2010 2\n",
      "2011 1\n",
      "2012 0\n",
      "2013 0\n",
      "2014 0\n",
      "2015 0\n"
     ]
    }
   ],
   "source": [
    "xs = []\n",
    "ys = []\n",
    "for key, value in year_counter(cleaned,'mid','range').items():\n",
    "#     if value > 0:\n",
    "        print key,value\n",
    "        xs.append(key)\n",
    "        ys.append(value)"
   ]
  },
  {
   "cell_type": "code",
   "execution_count": 200,
   "metadata": {
    "collapsed": true
   },
   "outputs": [],
   "source": [
    "import seaborn as sns"
   ]
  },
  {
   "cell_type": "code",
   "execution_count": 202,
   "metadata": {
    "collapsed": false,
    "scrolled": true
   },
   "outputs": [
    {
     "data": {
      "text/plain": [
       "<matplotlib.text.Text at 0x7feb8c764050>"
      ]
     },
     "execution_count": 202,
     "metadata": {},
     "output_type": "execute_result"
    },
    {
     "data": {
      "image/png": "[encoded data removed]",
      "text/plain": [
       "<matplotlib.figure.Figure at 0x7feb812223d0>"
      ]
     },
     "metadata": {},
     "output_type": "display_data"
    }
   ],
   "source": [
    "plt.bar(xs,ys)\n",
    "plt.xlabel('Year')\n",
    "plt.ylabel('Frequency of \"Mid Range\"')"
   ]
  },
  {
   "cell_type": "code",
   "execution_count": 22,
   "metadata": {
    "collapsed": false
   },
   "outputs": [
    {
     "data": {
      "text/plain": [
       "[u'breakdown',\n",
       " u'night',\n",
       " u'head',\n",
       " u'head',\n",
       " u'matchup',\n",
       " u'power',\n",
       " u'forward',\n",
       " u'pick',\n",
       " u'nba',\n",
       " u'draft',\n",
       " u'karl',\n",
       " u'anthony',\n",
       " u'town',\n",
       " u'kristaps',\n",
       " u'porzingis',\n",
       " u'town',\n",
       " u'particularly',\n",
       " u'interesting',\n",
       " u'case',\n",
       " u'study',\n",
       " u'elite',\n",
       " u'prospect',\n",
       " u'era',\n",
       " u'operate',\n",
       " u'post',\n",
       " u'nba',\n",
       " u'level',\n",
       " u'flash',\n",
       " u'ability',\n",
       " u'bang',\n",
       " u'paint',\n",
       " u'hook',\n",
       " u'shot',\n",
       " u'freshman',\n",
       " u'year',\n",
       " u'shoot',\n",
       " u'touch',\n",
       " u'give',\n",
       " u'upside',\n",
       " u'finesse',\n",
       " u'scorer',\n",
       " u'midrange',\n",
       " u'like',\n",
       " u'randolph',\n",
       " u'aldridge',\n",
       " u'significantly',\n",
       " u'unlike',\n",
       " u'okafor',\n",
       " u'center',\n",
       " u'nba',\n",
       " u'point',\n",
       " u'buffer',\n",
       " u'scoring',\n",
       " u'productivity',\n",
       " u'efficiency',\n",
       " u'throw',\n",
       " u'line',\n",
       " u'shoot',\n",
       " u'spectacular',\n",
       " u'season',\n",
       " u'event',\n",
       " u'record',\n",
       " u'participate',\n",
       " u'year',\n",
       " u'nba',\n",
       " u'physically',\n",
       " u'impose',\n",
       " u'center',\n",
       " u'severely',\n",
       " u'limit',\n",
       " u'ability',\n",
       " u'game',\n",
       " u'offensively',\n",
       " u'shooting',\n",
       " u'foul',\n",
       " u'line',\n",
       " u'sink',\n",
       " u'efficiency',\n",
       " u'unacceptable',\n",
       " u'level',\n",
       " u'center',\n",
       " u'throw',\n",
       " u'reasonable',\n",
       " u'clip',\n",
       " u'physical',\n",
       " u'tool',\n",
       " u'bully',\n",
       " u'way',\n",
       " u'shoot',\n",
       " u'percentage',\n",
       " u'post',\n",
       " u'town',\n",
       " u'appear',\n",
       " u'tool',\n",
       " u'rise',\n",
       " u'trend',\n",
       " u'okafor',\n",
       " u'improve',\n",
       " u'shooting',\n",
       " u'line',\n",
       " u'analyze',\n",
       " u'matchup',\n",
       " u'jahlil',\n",
       " u'okafor',\n",
       " u'karl',\n",
       " u'town',\n",
       " u'nike',\n",
       " u'hoop',\n",
       " u'portland',\n",
       " u'go',\n",
       " u'possession',\n",
       " u'possession',\n",
       " u'learn',\n",
       " u'game',\n",
       " u'minute',\n",
       " u'karl',\n",
       " u'town',\n",
       " u'dunk',\n",
       " u'gym',\n",
       " u'los',\n",
       " u'angeles',\n",
       " u'watch',\n",
       " u'kentucky',\n",
       " u'phenom',\n",
       " u'fly',\n",
       " u'rim',\n",
       " u'minute',\n",
       " u'karl',\n",
       " u'town',\n",
       " u'jumper',\n",
       " u'gym',\n",
       " u'los',\n",
       " u'angeles',\n",
       " u'watch',\n",
       " u'kentucky',\n",
       " u'phenom',\n",
       " u'make',\n",
       " u'shot',\n",
       " u'floor',\n",
       " u'include',\n",
       " u'spot',\n",
       " u'shooting',\n",
       " u'pull',\n",
       " u'ups',\n",
       " u'kentucky',\n",
       " u'karl',\n",
       " u'town',\n",
       " u'feature',\n",
       " u'footage',\n",
       " u'pre',\n",
       " u'draft',\n",
       " u'workout',\n",
       " u'los',\n",
       " u'angeles',\n",
       " u'maclean',\n",
       " u'proactive',\n",
       " u'sport',\n",
       " u'performance',\n",
       " u'kentucky',\n",
       " u'power',\n",
       " u'forward',\n",
       " u'karl',\n",
       " u'anthony',\n",
       " u'town',\n",
       " u'training',\n",
       " u'base',\n",
       " u'los',\n",
       " u'angeles',\n",
       " u'california',\n",
       " u'andrew',\n",
       " u'wiggins',\n",
       " u'karl',\n",
       " u'town',\n",
       " u'end',\n",
       " u'teammate',\n",
       " u'minnesota',\n",
       " u'wo',\n",
       " u'time',\n",
       " u'uniform',\n",
       " u'actually',\n",
       " u'play',\n",
       " u'world',\n",
       " u'select',\n",
       " u'team',\n",
       " u'nike',\n",
       " u'hoop',\n",
       " u'summit',\n",
       " u'collaborate',\n",
       " u'pretty',\n",
       " u'play',\n",
       " u'karl',\n",
       " u'town',\n",
       " u'favorite',\n",
       " u'school',\n",
       " u'recruiting',\n",
       " u'service',\n",
       " u'rank',\n",
       " u'ninth',\n",
       " u'best',\n",
       " u'prospect',\n",
       " u'class',\n",
       " u'accord',\n",
       " u'espn',\n",
       " u'seventh',\n",
       " u'rsci',\n",
       " u'nba',\n",
       " u'scout',\n",
       " u'extremely',\n",
       " u'strong',\n",
       " u'performance',\n",
       " u'nike',\n",
       " u'hoop',\n",
       " u'summit',\n",
       " u'world',\n",
       " u'team',\n",
       " u'practice',\n",
       " u'scrimmage',\n",
       " u'portland',\n",
       " u'oregon',\n",
       " u'town',\n",
       " u'play',\n",
       " u'minute',\n",
       " u'game',\n",
       " u'freshman',\n",
       " u'kentucky',\n",
       " u'extremely',\n",
       " u'productive',\n",
       " u'minute',\n",
       " u'basis',\n",
       " u'point',\n",
       " u'ft',\n",
       " u'rebound',\n",
       " u'block',\n",
       " u'assist',\n",
       " u'good',\n",
       " u'rank',\n",
       " u'frank',\n",
       " u'kaminsky',\n",
       " u'dx',\n",
       " u'prospect',\n",
       " u'karl',\n",
       " u'town',\n",
       " u'kentucky',\n",
       " u'long',\n",
       " u'player',\n",
       " u'post',\n",
       " u'wingspan',\n",
       " u'shoe',\n",
       " u'measurement',\n",
       " u'consistent',\n",
       " u'number',\n",
       " u'post',\n",
       " u'nike',\n",
       " u'hoop',\n",
       " u'summit',\n",
       " u'athletic',\n",
       " u'testing',\n",
       " u'fairly',\n",
       " u'impressive',\n",
       " u'maximum',\n",
       " u'vertical',\n",
       " u'inch',\n",
       " u'low',\n",
       " u'mark',\n",
       " u'post',\n",
       " u'cody',\n",
       " u'zeller',\n",
       " u'joakim',\n",
       " u'noah',\n",
       " u'come',\n",
       " u'college',\n",
       " u'town',\n",
       " u'know',\n",
       " u'flyer',\n",
       " u'fascinating',\n",
       " u'impressive',\n",
       " u'testing',\n",
       " u'sign',\n",
       " u'body',\n",
       " u'progress',\n",
       " u'college',\n",
       " u'strength',\n",
       " u'program',\n",
       " u'unique',\n",
       " u'near',\n",
       " u'emerge',\n",
       " u'school',\n",
       " u'rank',\n",
       " u'recent',\n",
       " u'memory',\n",
       " u'karl',\n",
       " u'town',\n",
       " u'number',\n",
       " u'flash',\n",
       " u'brilliance',\n",
       " u'week',\n",
       " u'stand',\n",
       " u'wingspan',\n",
       " u'massive',\n",
       " u'stand',\n",
       " u'reach',\n",
       " u'town',\n",
       " u'look',\n",
       " u'bit',\n",
       " u'mature',\n",
       " u'year',\n",
       " u'ago',\n",
       " u'physically',\n",
       " u'sport',\n",
       " u'muscle',\n",
       " u'upper',\n",
       " u'body',\n",
       " u'freak',\n",
       " u'nonetheless',\n",
       " u'fairly',\n",
       " u'impressive',\n",
       " u'athlete',\n",
       " u'player',\n",
       " u'height',\n",
       " u'town',\n",
       " u'come',\n",
       " u'game',\n",
       " u'day',\n",
       " u'far',\n",
       " u'away',\n",
       " u'impressive',\n",
       " u'player',\n",
       " u'floor',\n",
       " u'early',\n",
       " u'put',\n",
       " u'size',\n",
       " u'skill',\n",
       " u'good',\n",
       " u'use',\n",
       " u'scoring',\n",
       " u'inside',\n",
       " u'challenge',\n",
       " u'number',\n",
       " u'shot',\n",
       " u'defensively',\n",
       " u'find',\n",
       " u'foul',\n",
       " u'trouble',\n",
       " u'town',\n",
       " u'play',\n",
       " u'minute',\n",
       " u'effective',\n",
       " u'late',\n",
       " u'game',\n",
       " u'way',\n",
       " u'microcosm',\n",
       " u'saw',\n",
       " u'week',\n",
       " u'finish',\n",
       " u'impressive',\n",
       " u'dunk',\n",
       " u'toss',\n",
       " u'number',\n",
       " u'hook',\n",
       " u'shot',\n",
       " u'score',\n",
       " u'deft',\n",
       " u'touch',\n",
       " u'practice',\n",
       " u'town',\n",
       " u'truly',\n",
       " u'impressive',\n",
       " u'moment',\n",
       " u'portland',\n",
       " u'quiet',\n",
       " u'stretch',\n",
       " u'skill',\n",
       " u'level',\n",
       " u'ability',\n",
       " u'shot',\n",
       " u'perimeter',\n",
       " u'clear',\n",
       " u'drill',\n",
       " u'coast',\n",
       " u'outside',\n",
       " u'time',\n",
       " u'physical',\n",
       " u'operating',\n",
       " u'inside',\n",
       " u'competitive',\n",
       " u'portion',\n",
       " u'practice',\n",
       " u'town',\n",
       " u'impact',\n",
       " u'player',\n",
       " u'end',\n",
       " u'floor',\n",
       " u'engaged',\n",
       " u'interesting',\n",
       " u'john',\n",
       " u'calipari',\n",
       " u'draw',\n",
       " u'young',\n",
       " u'center',\n",
       " u'truly',\n",
       " u'unique',\n",
       " u'touch',\n",
       " u'coordination',\n",
       " u'player',\n",
       " u'size',\n",
       " u'impose',\n",
       " u'assertive',\n",
       " u'post',\n",
       " u'look',\n",
       " u'like',\n",
       " u'obvious',\n",
       " u'candidate',\n",
       " u'regardless',\n",
       " u'interesting',\n",
       " u'kind',\n",
       " u'balance',\n",
       " u'town',\n",
       " u'able',\n",
       " u'strike',\n",
       " u'offensive',\n",
       " u'end',\n",
       " u'freshman',\n",
       " u'figure',\n",
       " u'crowded',\n",
       " u'kentucky',\n",
       " u'big',\n",
       " u'man',\n",
       " u'rotation',\n",
       " u'kentucky',\n",
       " u'commit',\n",
       " u'karl',\n",
       " u'town',\n",
       " u'world',\n",
       " u'select',\n",
       " u'team',\n",
       " u'nike',\n",
       " u'hoop',\n",
       " u'summit',\n",
       " u'karl',\n",
       " u'townsweight',\n",
       " u'lb',\n",
       " u'height',\n",
       " u'shoe',\n",
       " u'reach',\n",
       " u'width',\n",
       " u'length',\n",
       " u'draftexpress',\n",
       " u'chicago',\n",
       " u'mcdonald',\n",
       " u'american',\n",
       " u'dunk',\n",
       " u'contest',\n",
       " u'film',\n",
       " u'dunk',\n",
       " u'exclusive',\n",
       " u'slow',\n",
       " u'motion',\n",
       " u'lovingly',\n",
       " u'dub',\n",
       " u'dx',\n",
       " u'mo',\n",
       " u'karl',\n",
       " u'town',\n",
       " u'mcdonald',\n",
       " u'school',\n",
       " u'american',\n",
       " u'dunk',\n",
       " u'contest',\n",
       " u'grayson',\n",
       " u'allen',\n",
       " u'young',\n",
       " u'player',\n",
       " u'compete',\n",
       " u'hoop',\n",
       " u'summit',\n",
       " u'roster',\n",
       " u'turn',\n",
       " u'november',\n",
       " u'expect',\n",
       " u'school',\n",
       " u'sophomore',\n",
       " u'karl',\n",
       " u'town',\n",
       " u'consider',\n",
       " u'prospect',\n",
       " u'class',\n",
       " u'accord',\n",
       " u'recruiting',\n",
       " u'service',\n",
       " u'karl',\n",
       " u'town',\n",
       " u'strong',\n",
       " u'impression',\n",
       " u'nba',\n",
       " u'scout',\n",
       " u'stand',\n",
       " u'nearly',\n",
       " u'foot',\n",
       " u'tall',\n",
       " u'wingspan',\n",
       " u'town',\n",
       " u'excellent',\n",
       " u'size',\n",
       " u'prospect',\n",
       " u'state',\n",
       " u'see',\n",
       " u'player',\n",
       " u'versatile',\n",
       " u'play',\n",
       " u'freak',\n",
       " u'athlete',\n",
       " u'promising',\n",
       " u'frame',\n",
       " u'good',\n",
       " u'mobility',\n",
       " u'player',\n",
       " u'size',\n",
       " u'set',\n",
       " u'apart',\n",
       " u'average',\n",
       " u'school',\n",
       " u'junior',\n",
       " u'skill',\n",
       " u'level',\n",
       " u'feel',\n",
       " u'game',\n",
       " u'physical',\n",
       " u'tool',\n",
       " u'capable',\n",
       " u'shoot',\n",
       " u'ball',\n",
       " u'perimeter',\n",
       " u'make',\n",
       " u'play',\n",
       " u'size',\n",
       " u'lane',\n",
       " u'recently',\n",
       " u'work',\n",
       " u'develop',\n",
       " u'basket',\n",
       " u'game',\n",
       " u'town',\n",
       " u'quickly',\n",
       " u'develop',\n",
       " u'deft',\n",
       " u'touch',\n",
       " u'hook',\n",
       " u'shot',\n",
       " u'excellent',\n",
       " u'student',\n",
       " u'grade',\n",
       " u'point',\n",
       " u'average',\n",
       " u'town',\n",
       " u'young',\n",
       " u'charismatic',\n",
       " u'talent',\n",
       " u'worth',\n",
       " u'watch',\n",
       " u'closely',\n",
       " u'come',\n",
       " u'year',\n",
       " u'karl',\n",
       " u'townsheight']"
      ]
     },
     "execution_count": 22,
     "metadata": {},
     "output_type": "execute_result"
    }
   ],
   "source": [
    "tokenize_and_stem_parsed(cleaned['Parsed'][0])"
   ]
  },
  {
   "cell_type": "markdown",
   "metadata": {},
   "source": [
    "# SKLearn"
   ]
  },
  {
   "cell_type": "code",
   "execution_count": 23,
   "metadata": {
    "collapsed": true
   },
   "outputs": [],
   "source": [
    "from sklearn.feature_extraction.text import TfidfVectorizer\n",
    "from sklearn.feature_extraction.text import CountVectorizer"
   ]
  },
  {
   "cell_type": "code",
   "execution_count": 29,
   "metadata": {
    "collapsed": false
   },
   "outputs": [],
   "source": [
    "vectorizer = TfidfVectorizer(min_df=2,\n",
    "                             tokenizer=tokenize_and_stem_parsed,\n",
    "                             preprocessor = lambda x: x,\n",
    "#                              tokenizer=tokenize_only,\n",
    "                             stop_words=stopwords,\n",
    "                             ngram_range=(2,2))\n",
    "\n",
    "text_cv = vectorizer.fit(cleaned['Parsed'])\n",
    "text_matrix = vectorizer.fit_transform(cleaned['Parsed'])\n",
    "feature_names = vectorizer.get_feature_names()"
   ]
  },
  {
   "cell_type": "code",
   "execution_count": 138,
   "metadata": {
    "collapsed": false
   },
   "outputs": [],
   "source": [
    "vectorizer = CountVectorizer(min_df=2,\n",
    "                             max_df=.95,\n",
    "                             tokenizer=tokenize_and_stem_parsed,\n",
    "                             preprocessor = lambda x: x,\n",
    "#                              tokenizer=tokenize_only,\n",
    "                             stop_words=stopwords,\n",
    "                             ngram_range=(2,2))\n",
    "\n",
    "text_cv = vectorizer.fit(cleaned['Parsed'])\n",
    "text_matrix = vectorizer.fit_transform(cleaned['Parsed'])\n",
    "feature_names = vectorizer.get_feature_names()"
   ]
  },
  {
   "cell_type": "markdown",
   "metadata": {},
   "source": [
    "### LDA"
   ]
  },
  {
   "cell_type": "code",
   "execution_count": 139,
   "metadata": {
    "collapsed": true
   },
   "outputs": [],
   "source": [
    "from sklearn.decomposition import NMF, LatentDirichletAllocation"
   ]
  },
  {
   "cell_type": "code",
   "execution_count": 140,
   "metadata": {
    "collapsed": true
   },
   "outputs": [],
   "source": [
    "def print_top_words(model, feature_names, n_top_words):\n",
    "    for topic_idx, topic in enumerate(model.components_):\n",
    "        print(\"Topic #%d:\" % topic_idx)\n",
    "        print(\" \".join([feature_names[i]\n",
    "                        for i in topic.argsort()[:-n_top_words - 1:-1]]))"
   ]
  },
  {
   "cell_type": "code",
   "execution_count": 141,
   "metadata": {
    "collapsed": false
   },
   "outputs": [],
   "source": [
    "import lda"
   ]
  },
  {
   "cell_type": "code",
   "execution_count": 142,
   "metadata": {
    "collapsed": false
   },
   "outputs": [
    {
     "data": {
      "text/plain": [
       "<lda.lda.LDA instance at 0x7feb77d061b8>"
      ]
     },
     "execution_count": 142,
     "metadata": {},
     "output_type": "execute_result"
    }
   ],
   "source": [
    "model = lda.LDA(n_topics=3, n_iter=500, random_state=1)\n",
    "model.fit(text_matrix)  # model.fit_transform(X) is also available"
   ]
  },
  {
   "cell_type": "code",
   "execution_count": 143,
   "metadata": {
    "collapsed": false
   },
   "outputs": [
    {
     "data": {
      "text/plain": [
       "(array([ 129.,  171.,  134.,  123.,   96.,   58.,   31.,   13.,    3.,    3.]),\n",
       " array([  9.56663159e-05,   9.96346324e-02,   1.99173599e-01,\n",
       "          2.98712565e-01,   3.98251531e-01,   4.97790497e-01,\n",
       "          5.97329463e-01,   6.96868429e-01,   7.96407395e-01,\n",
       "          8.95946361e-01,   9.95485327e-01]),\n",
       " <a list of 10 Patch objects>)"
      ]
     },
     "execution_count": 143,
     "metadata": {},
     "output_type": "execute_result"
    },
    {
     "data": {
      "image/png": "[encoded data removed]",
      "text/plain": [
       "<matplotlib.figure.Figure at 0x7feb77c8ac10>"
      ]
     },
     "metadata": {},
     "output_type": "display_data"
    },
    {
     "data": {
      "image/png": "[encoded data removed]",
      "text/plain": [
       "<matplotlib.figure.Figure at 0x7feb778e9ed0>"
      ]
     },
     "metadata": {},
     "output_type": "display_data"
    },
    {
     "data": {
      "image/png": "[encoded data removed]",
      "text/plain": [
       "<matplotlib.figure.Figure at 0x7feb8b24cad0>"
      ]
     },
     "metadata": {},
     "output_type": "display_data"
    }
   ],
   "source": [
    "%matplotlib inline \n",
    "plt.hist(model.doc_topic_[:,0])\n",
    "plt.figure()\n",
    "\n",
    "plt.hist(model.doc_topic_[:,1])\n",
    "plt.figure()\n",
    "\n",
    "plt.hist(model.doc_topic_[:,2])"
   ]
  },
  {
   "cell_type": "code",
   "execution_count": 144,
   "metadata": {
    "collapsed": false
   },
   "outputs": [
    {
     "name": "stdout",
     "output_type": "stream",
     "text": [
      "Topic 0: jump shot lateral quickness good job defensive end physical tool small forward throw line pick roll\n",
      "Topic 1: point guard ball handling half court mid range handling skill ncaa tournament create shot court vision\n",
      "Topic 2: big man point rebound power forward mid range block shot look like low post year old\n"
     ]
    }
   ],
   "source": [
    "topic_word = model.topic_word_  # model.components_ also works\n",
    "n_top_words = 8\n",
    "for i, topic_dist in enumerate(topic_word):\n",
    "    topic_words = np.array(feature_names)[np.argsort(topic_dist)][:-(n_top_words+1):-1]\n",
    "    print('Topic {}: {}'.format(i, ' '.join(topic_words)))"
   ]
  },
  {
   "cell_type": "code",
   "execution_count": 145,
   "metadata": {
    "collapsed": false
   },
   "outputs": [
    {
     "data": {
      "text/plain": [
       "(761, 3)"
      ]
     },
     "execution_count": 145,
     "metadata": {},
     "output_type": "execute_result"
    }
   ],
   "source": [
    "model.doc_topic_.shape"
   ]
  },
  {
   "cell_type": "code",
   "execution_count": 146,
   "metadata": {
    "collapsed": true
   },
   "outputs": [],
   "source": [
    "topic = []\n",
    "for row in model.doc_topic_:\n",
    "    topic.append(row.argmax())"
   ]
  },
  {
   "cell_type": "markdown",
   "metadata": {},
   "source": [
    "### KMEANS"
   ]
  },
  {
   "cell_type": "code",
   "execution_count": 37,
   "metadata": {
    "collapsed": true
   },
   "outputs": [],
   "source": [
    "from sklearn.cluster import KMeans"
   ]
  },
  {
   "cell_type": "code",
   "execution_count": 38,
   "metadata": {
    "collapsed": false
   },
   "outputs": [
    {
     "name": "stderr",
     "output_type": "stream",
     "text": [
      "/home/michael/anaconda2/lib/python2.7/site-packages/sklearn/utils/validation.py:420: DataConversionWarning: Data with input dtype int64 was converted to float64 by the normalize function.\n",
      "  warnings.warn(msg, DataConversionWarning)\n"
     ]
    }
   ],
   "source": [
    "from sklearn.preprocessing import normalize\n",
    "text_matrix = normalize(text_matrix.toarray())"
   ]
  },
  {
   "cell_type": "code",
   "execution_count": 39,
   "metadata": {
    "collapsed": true
   },
   "outputs": [],
   "source": [
    "km = KMeans(n_clusters=3)"
   ]
  },
  {
   "cell_type": "code",
   "execution_count": 40,
   "metadata": {
    "collapsed": false
   },
   "outputs": [
    {
     "data": {
      "image/png": "[encoded data removed]",
      "text/plain": [
       "<matplotlib.figure.Figure at 0x7feb9d6aed50>"
      ]
     },
     "metadata": {},
     "output_type": "display_data"
    }
   ],
   "source": [
    "def plot_kmeans(data):\n",
    "    tfidf = TfidfVectorizer(min_df=.01, ngram_range=(1,2))\n",
    "    X = data\n",
    "\n",
    "    ##### cluster data into K=1..10 clusters #####\n",
    "    K = range(1,10)\n",
    "\n",
    "    # scipy kmeans module for each value of k:\n",
    "    KM = [KMeans(n_clusters=k).fit(X) for k in K]\n",
    "    ##list comprehension to cluster centroids\n",
    "    inertia = [model.inertia_ for model in KM]\n",
    "\n",
    "#     # alternative: scipy.spatial.distance.cdist\n",
    "#     D_k = [cdist(X, cent, 'euclidean') for cent in centroids]\n",
    "#     cIdx = [np.argmin(D,axis=1) for D in D_k]\n",
    "#     dist = [np.min(D,axis=1) for D in D_k]\n",
    "#     avgWithinSS = [sum(d)/X.shape[0] for d in dist]\n",
    "\n",
    "#     ##### plot ###\n",
    "    kIdx = 4\n",
    "\n",
    "    # elbow curve\n",
    "    fig = plt.figure()\n",
    "    ax = fig.add_subplot(111)\n",
    "    ax.plot(K, inertia, 'b*-')\n",
    "#     ax.plot(K[kIdx], avgWithinSS[kIdx], marker='x', markersize=12, \n",
    "#         markeredgewidth=2, markeredgecolor='r', markerfacecolor='None')\n",
    "    plt.grid(True)\n",
    "    plt.xlabel('Number of clusters')\n",
    "    plt.ylabel('Average within-cluster sum of squares')\n",
    "    plt.title('Elbow for KMeans clustering')\n",
    "\n",
    "    \n",
    "plot_kmeans(text_matrix)"
   ]
  },
  {
   "cell_type": "code",
   "execution_count": 41,
   "metadata": {
    "collapsed": false
   },
   "outputs": [
    {
     "data": {
      "text/plain": [
       "KMeans(copy_x=True, init='k-means++', max_iter=300, n_clusters=3, n_init=10,\n",
       "    n_jobs=1, precompute_distances='auto', random_state=None, tol=0.0001,\n",
       "    verbose=0)"
      ]
     },
     "execution_count": 41,
     "metadata": {},
     "output_type": "execute_result"
    }
   ],
   "source": [
    "km.fit(text_matrix)"
   ]
  },
  {
   "cell_type": "code",
   "execution_count": 42,
   "metadata": {
    "collapsed": true
   },
   "outputs": [],
   "source": [
    "clusters = km.labels_.tolist()"
   ]
  },
  {
   "cell_type": "markdown",
   "metadata": {},
   "source": [
    "### Analyze"
   ]
  },
  {
   "cell_type": "code",
   "execution_count": 147,
   "metadata": {
    "collapsed": false
   },
   "outputs": [],
   "source": [
    "clustered = {'Name':cleaned['Name'],\n",
    "             'Year':cleaned['Year'],\n",
    "             'Position':cleaned['Position'],\n",
    "             'Height':cleaned['Height'],\n",
    "             'Weight':cleaned['Weight'],\n",
    "             'Pick':cleaned['Pick'],\n",
    "             'Vertical':cleaned['Vertical'],\n",
    "             'Cluster':clusters,\n",
    "             'Topic':topic,\n",
    "             'Frequent':cleaned['Frequent']}"
   ]
  },
  {
   "cell_type": "code",
   "execution_count": 148,
   "metadata": {
    "collapsed": true
   },
   "outputs": [],
   "source": [
    "frame = pd.DataFrame(clustered,columns = ['Name',\n",
    "                                          'Year',\n",
    "                                          'Position', \n",
    "                                          'Height', \n",
    "                                          'Weight',\n",
    "                                          'Pick',\n",
    "                                          'Vertical',\n",
    "                                          'Cluster',\n",
    "                                          'Topic', \n",
    "                                          'Frequent'])"
   ]
  },
  {
   "cell_type": "code",
   "execution_count": 149,
   "metadata": {
    "collapsed": false
   },
   "outputs": [],
   "source": [
    "name_dict = {0:'zero',1:'one',2:'two',3:'three'}\n",
    "names = map(lambda x: name_dict[x], clusters)"
   ]
  },
  {
   "cell_type": "code",
   "execution_count": 150,
   "metadata": {
    "collapsed": true
   },
   "outputs": [],
   "source": [
    "name_dict = {0:'zero',1:'one',2:'two',3:'three'}\n",
    "names = map(lambda x: name_dict[x], topic)"
   ]
  },
  {
   "cell_type": "code",
   "execution_count": 151,
   "metadata": {
    "collapsed": false
   },
   "outputs": [],
   "source": [
    "test_d = {'Cluster':names,\n",
    "          'ClusterNum':topic,\n",
    "          'Year':cleaned['Year'],\n",
    "          'Position':cleaned['Position'],\n",
    "          'Pick':cleaned['Pick'],\n",
    "          'Height':cleaned['Height'],\n",
    "          'Weight':cleaned['Weight']\n",
    "       }\n",
    "test = pd.DataFrame(test_d,columns = ['Cluster',\n",
    "                                      'ClusterNum',\n",
    "                                      'Year',\n",
    "                                      'Position',\n",
    "                                      'Pick',\n",
    "                                      'Height',\n",
    "                                      'Weight'])\n",
    "test = test[test['Weight']>'100']\n",
    "test.to_csv('parallel/test.csv',index=False)"
   ]
  },
  {
   "cell_type": "code",
   "execution_count": 152,
   "metadata": {
    "collapsed": false,
    "scrolled": true
   },
   "outputs": [
    {
     "data": {
      "text/html": [
       "<div>\n",
       "<table border=\"1\" class=\"dataframe\">\n",
       "  <thead>\n",
       "    <tr style=\"text-align: right;\">\n",
       "      <th></th>\n",
       "      <th>Year</th>\n",
       "      <th>Pick</th>\n",
       "      <th>Drafted</th>\n",
       "      <th>Traded to</th>\n",
       "      <th>Name</th>\n",
       "      <th>Height</th>\n",
       "      <th>Weight</th>\n",
       "      <th>College</th>\n",
       "      <th>Birthday</th>\n",
       "      <th>Comment</th>\n",
       "      <th>RSCI</th>\n",
       "      <th>Position</th>\n",
       "      <th>StandingReach</th>\n",
       "      <th>Wingspan</th>\n",
       "      <th>Vertical</th>\n",
       "      <th>Text</th>\n",
       "      <th>Parsed</th>\n",
       "      <th>Frequent</th>\n",
       "    </tr>\n",
       "  </thead>\n",
       "  <tbody>\n",
       "    <tr>\n",
       "      <th>0</th>\n",
       "      <td>2015</td>\n",
       "      <td>1</td>\n",
       "      <td>Timberwolves</td>\n",
       "      <td></td>\n",
       "      <td>Karl Towns</td>\n",
       "      <td>84</td>\n",
       "      <td>248</td>\n",
       "      <td>Kentucky</td>\n",
       "      <td>1995-11-15</td>\n",
       "      <td></td>\n",
       "      <td>7</td>\n",
       "      <td>4.5</td>\n",
       "      <td>109.0</td>\n",
       "      <td>87.25</td>\n",
       "      <td>36.5</td>\n",
       "      <td>A breakdown of last night's head to head match...</td>\n",
       "      <td>(A , breakdown , of , last , night, 's , head ...</td>\n",
       "      <td>{u'interesting': 3, u'impressive': 6, u'physic...</td>\n",
       "    </tr>\n",
       "    <tr>\n",
       "      <th>1</th>\n",
       "      <td>2015</td>\n",
       "      <td>2</td>\n",
       "      <td>LA Lakers</td>\n",
       "      <td></td>\n",
       "      <td>D'Angelo Russell</td>\n",
       "      <td>77</td>\n",
       "      <td>193</td>\n",
       "      <td>Ohio State</td>\n",
       "      <td>1996-02-23</td>\n",
       "      <td></td>\n",
       "      <td>16</td>\n",
       "      <td>1.5</td>\n",
       "      <td>102.0</td>\n",
       "      <td>81.75</td>\n",
       "      <td>NaN</td>\n",
       "      <td>A breakdown of last night's head to head match...</td>\n",
       "      <td>(A , breakdown , of , last , night, 's , head ...</td>\n",
       "      <td>{u'heavy': 1, u'new': 2, u'elite': 2}</td>\n",
       "    </tr>\n",
       "    <tr>\n",
       "      <th>2</th>\n",
       "      <td>2015</td>\n",
       "      <td>3</td>\n",
       "      <td>Philadelphia</td>\n",
       "      <td></td>\n",
       "      <td>Jahlil Okafor</td>\n",
       "      <td>83</td>\n",
       "      <td>272</td>\n",
       "      <td>Duke</td>\n",
       "      <td>1995-12-15</td>\n",
       "      <td></td>\n",
       "      <td>2</td>\n",
       "      <td>5.0</td>\n",
       "      <td>110.5</td>\n",
       "      <td>89.00</td>\n",
       "      <td>NaN</td>\n",
       "      <td>That isn't to say that there isn't a place for...</td>\n",
       "      <td>(That , is, n't , to , say , that , there , is...</td>\n",
       "      <td>{u'major': 3, u'good': 4, u'old': 4}</td>\n",
       "    </tr>\n",
       "    <tr>\n",
       "      <th>3</th>\n",
       "      <td>2015</td>\n",
       "      <td>4</td>\n",
       "      <td>Knicks</td>\n",
       "      <td></td>\n",
       "      <td>Kristaps Porzingis</td>\n",
       "      <td>84</td>\n",
       "      <td>230</td>\n",
       "      <td>Sevilla</td>\n",
       "      <td>1995-08-02</td>\n",
       "      <td></td>\n",
       "      <td>&amp;nbsp</td>\n",
       "      <td>4.0</td>\n",
       "      <td>NaN</td>\n",
       "      <td>NaN</td>\n",
       "      <td>NaN</td>\n",
       "      <td>Mike Schmitz breaks down Kristaps Porzingis' e...</td>\n",
       "      <td>(Mike , Schmitz , breaks , down , Kristaps , P...</td>\n",
       "      <td>{u'exclusive': 1, u'unique': 1, u'impressive': 2}</td>\n",
       "    </tr>\n",
       "    <tr>\n",
       "      <th>4</th>\n",
       "      <td>2015</td>\n",
       "      <td>5</td>\n",
       "      <td>Magic</td>\n",
       "      <td></td>\n",
       "      <td>Mario Hezonja</td>\n",
       "      <td>80</td>\n",
       "      <td>200</td>\n",
       "      <td>Barcelona</td>\n",
       "      <td>1995-02-25</td>\n",
       "      <td></td>\n",
       "      <td>&amp;nbsp</td>\n",
       "      <td>2.5</td>\n",
       "      <td>NaN</td>\n",
       "      <td>NaN</td>\n",
       "      <td>NaN</td>\n",
       "      <td>Analyzing the play of Mario Hezonja in Game on...</td>\n",
       "      <td>(Analyzing , the , play , of , Mario , Hezonja...</td>\n",
       "      <td>{u'poor': 3, u'spanish': 3, u'nice': 4}</td>\n",
       "    </tr>\n",
       "  </tbody>\n",
       "</table>\n",
       "</div>"
      ],
      "text/plain": [
       "   Year  Pick       Drafted Traded to                Name Height Weight  \\\n",
       "0  2015     1  Timberwolves                    Karl Towns     84    248   \n",
       "1  2015     2     LA Lakers              D'Angelo Russell     77    193   \n",
       "2  2015     3  Philadelphia                 Jahlil Okafor     83    272   \n",
       "3  2015     4        Knicks            Kristaps Porzingis     84    230   \n",
       "4  2015     5         Magic                 Mario Hezonja     80    200   \n",
       "\n",
       "      College    Birthday Comment   RSCI  Position  StandingReach  Wingspan  \\\n",
       "0    Kentucky  1995-11-15              7       4.5          109.0     87.25   \n",
       "1  Ohio State  1996-02-23             16       1.5          102.0     81.75   \n",
       "2        Duke  1995-12-15              2       5.0          110.5     89.00   \n",
       "3     Sevilla  1995-08-02          &nbsp       4.0            NaN       NaN   \n",
       "4   Barcelona  1995-02-25          &nbsp       2.5            NaN       NaN   \n",
       "\n",
       "   Vertical                                               Text  \\\n",
       "0      36.5  A breakdown of last night's head to head match...   \n",
       "1       NaN  A breakdown of last night's head to head match...   \n",
       "2       NaN  That isn't to say that there isn't a place for...   \n",
       "3       NaN  Mike Schmitz breaks down Kristaps Porzingis' e...   \n",
       "4       NaN  Analyzing the play of Mario Hezonja in Game on...   \n",
       "\n",
       "                                              Parsed  \\\n",
       "0  (A , breakdown , of , last , night, 's , head ...   \n",
       "1  (A , breakdown , of , last , night, 's , head ...   \n",
       "2  (That , is, n't , to , say , that , there , is...   \n",
       "3  (Mike , Schmitz , breaks , down , Kristaps , P...   \n",
       "4  (Analyzing , the , play , of , Mario , Hezonja...   \n",
       "\n",
       "                                            Frequent  \n",
       "0  {u'interesting': 3, u'impressive': 6, u'physic...  \n",
       "1              {u'heavy': 1, u'new': 2, u'elite': 2}  \n",
       "2               {u'major': 3, u'good': 4, u'old': 4}  \n",
       "3  {u'exclusive': 1, u'unique': 1, u'impressive': 2}  \n",
       "4            {u'poor': 3, u'spanish': 3, u'nice': 4}  "
      ]
     },
     "execution_count": 152,
     "metadata": {},
     "output_type": "execute_result"
    }
   ],
   "source": [
    "cleaned.head()"
   ]
  },
  {
   "cell_type": "code",
   "execution_count": 153,
   "metadata": {
    "collapsed": false
   },
   "outputs": [
    {
     "data": {
      "text/plain": [
       "2    412\n",
       "0    224\n",
       "1    125\n",
       "Name: Cluster, dtype: int64"
      ]
     },
     "execution_count": 153,
     "metadata": {},
     "output_type": "execute_result"
    }
   ],
   "source": [
    "frame['Cluster'].value_counts()"
   ]
  },
  {
   "cell_type": "code",
   "execution_count": 154,
   "metadata": {
    "collapsed": false
   },
   "outputs": [
    {
     "data": {
      "text/html": [
       "<div>\n",
       "<table border=\"1\" class=\"dataframe\">\n",
       "  <thead>\n",
       "    <tr style=\"text-align: right;\">\n",
       "      <th></th>\n",
       "      <th>Name</th>\n",
       "      <th>Year</th>\n",
       "      <th>Position</th>\n",
       "      <th>Height</th>\n",
       "      <th>Weight</th>\n",
       "      <th>Pick</th>\n",
       "      <th>Vertical</th>\n",
       "      <th>Cluster</th>\n",
       "      <th>Topic</th>\n",
       "      <th>Frequent</th>\n",
       "    </tr>\n",
       "  </thead>\n",
       "  <tbody>\n",
       "    <tr>\n",
       "      <th>0</th>\n",
       "      <td>Karl Towns</td>\n",
       "      <td>2015</td>\n",
       "      <td>4.5</td>\n",
       "      <td>84</td>\n",
       "      <td>248</td>\n",
       "      <td>1</td>\n",
       "      <td>36.5</td>\n",
       "      <td>2</td>\n",
       "      <td>2</td>\n",
       "      <td>{u'interesting': 3, u'impressive': 6, u'physic...</td>\n",
       "    </tr>\n",
       "    <tr>\n",
       "      <th>1</th>\n",
       "      <td>D'Angelo Russell</td>\n",
       "      <td>2015</td>\n",
       "      <td>1.5</td>\n",
       "      <td>77</td>\n",
       "      <td>193</td>\n",
       "      <td>2</td>\n",
       "      <td>NaN</td>\n",
       "      <td>2</td>\n",
       "      <td>2</td>\n",
       "      <td>{u'heavy': 1, u'new': 2, u'elite': 2}</td>\n",
       "    </tr>\n",
       "    <tr>\n",
       "      <th>2</th>\n",
       "      <td>Jahlil Okafor</td>\n",
       "      <td>2015</td>\n",
       "      <td>5.0</td>\n",
       "      <td>83</td>\n",
       "      <td>272</td>\n",
       "      <td>3</td>\n",
       "      <td>NaN</td>\n",
       "      <td>2</td>\n",
       "      <td>2</td>\n",
       "      <td>{u'major': 3, u'good': 4, u'old': 4}</td>\n",
       "    </tr>\n",
       "    <tr>\n",
       "      <th>3</th>\n",
       "      <td>Kristaps Porzingis</td>\n",
       "      <td>2015</td>\n",
       "      <td>4.0</td>\n",
       "      <td>84</td>\n",
       "      <td>230</td>\n",
       "      <td>4</td>\n",
       "      <td>NaN</td>\n",
       "      <td>2</td>\n",
       "      <td>2</td>\n",
       "      <td>{u'exclusive': 1, u'unique': 1, u'impressive': 2}</td>\n",
       "    </tr>\n",
       "    <tr>\n",
       "      <th>4</th>\n",
       "      <td>Mario Hezonja</td>\n",
       "      <td>2015</td>\n",
       "      <td>2.5</td>\n",
       "      <td>80</td>\n",
       "      <td>200</td>\n",
       "      <td>5</td>\n",
       "      <td>NaN</td>\n",
       "      <td>2</td>\n",
       "      <td>2</td>\n",
       "      <td>{u'poor': 3, u'spanish': 3, u'nice': 4}</td>\n",
       "    </tr>\n",
       "  </tbody>\n",
       "</table>\n",
       "</div>"
      ],
      "text/plain": [
       "                 Name  Year  Position Height Weight  Pick  Vertical  Cluster  \\\n",
       "0          Karl Towns  2015       4.5     84    248     1      36.5        2   \n",
       "1    D'Angelo Russell  2015       1.5     77    193     2       NaN        2   \n",
       "2       Jahlil Okafor  2015       5.0     83    272     3       NaN        2   \n",
       "3  Kristaps Porzingis  2015       4.0     84    230     4       NaN        2   \n",
       "4       Mario Hezonja  2015       2.5     80    200     5       NaN        2   \n",
       "\n",
       "   Topic                                           Frequent  \n",
       "0      2  {u'interesting': 3, u'impressive': 6, u'physic...  \n",
       "1      2              {u'heavy': 1, u'new': 2, u'elite': 2}  \n",
       "2      2               {u'major': 3, u'good': 4, u'old': 4}  \n",
       "3      2  {u'exclusive': 1, u'unique': 1, u'impressive': 2}  \n",
       "4      2            {u'poor': 3, u'spanish': 3, u'nice': 4}  "
      ]
     },
     "execution_count": 154,
     "metadata": {},
     "output_type": "execute_result"
    }
   ],
   "source": [
    "frame.head()"
   ]
  },
  {
   "cell_type": "code",
   "execution_count": 155,
   "metadata": {
    "collapsed": true
   },
   "outputs": [],
   "source": [
    "frame.to_csv('cleaned.csv')"
   ]
  },
  {
   "cell_type": "code",
   "execution_count": 156,
   "metadata": {
    "collapsed": false
   },
   "outputs": [
    {
     "data": {
      "text/plain": [
       "0    351\n",
       "1    216\n",
       "2    194\n",
       "Name: Topic, dtype: int64"
      ]
     },
     "execution_count": 156,
     "metadata": {},
     "output_type": "execute_result"
    }
   ],
   "source": [
    "frame['Topic'].value_counts()"
   ]
  },
  {
   "cell_type": "code",
   "execution_count": 157,
   "metadata": {
    "collapsed": false
   },
   "outputs": [
    {
     "data": {
      "text/plain": [
       "Cluster\n",
       "0    [[Axes(0.125,0.684722;0.336957x0.215278), Axes...\n",
       "1    [[Axes(0.125,0.684722;0.336957x0.215278), Axes...\n",
       "2    [[Axes(0.125,0.684722;0.336957x0.215278), Axes...\n",
       "dtype: object"
      ]
     },
     "execution_count": 157,
     "metadata": {},
     "output_type": "execute_result"
    },
    {
     "data": {
      "image/png": "[encoded data removed]",
      "text/plain": [
       "<matplotlib.figure.Figure at 0x7feb7c663d10>"
      ]
     },
     "metadata": {},
     "output_type": "display_data"
    },
    {
     "data": {
      "image/png": "[encoded data removed]",
      "text/plain": [
       "<matplotlib.figure.Figure at 0x7feb8bc75990>"
      ]
     },
     "metadata": {},
     "output_type": "display_data"
    },
    {
     "data": {
      "image/png": "[encoded data removed]",
      "text/plain": [
       "<matplotlib.figure.Figure at 0x7feb8c8938d0>"
      ]
     },
     "metadata": {},
     "output_type": "display_data"
    }
   ],
   "source": [
    "frame.groupby('Cluster').hist()"
   ]
  },
  {
   "cell_type": "code",
   "execution_count": 158,
   "metadata": {
    "collapsed": false
   },
   "outputs": [],
   "source": [
    "order_centroids = km.cluster_centers_ > .02"
   ]
  },
  {
   "cell_type": "code",
   "execution_count": 159,
   "metadata": {
    "collapsed": false
   },
   "outputs": [],
   "source": [
    "feature_names = np.array(feature_names)"
   ]
  },
  {
   "cell_type": "code",
   "execution_count": 160,
   "metadata": {
    "collapsed": true
   },
   "outputs": [],
   "source": [
    "def print_knn_words(model, feature_names, n_top_words):\n",
    "    for topic_idx, topic in enumerate(model.cluster_centers_):\n",
    "        print(\"Topic #%d:\" % topic_idx)\n",
    "        print(\" \".join([feature_names[i]\n",
    "                        for i in topic.argsort()[:-n_top_words - 1:-1]]))"
   ]
  },
  {
   "cell_type": "code",
   "execution_count": 161,
   "metadata": {
    "collapsed": false
   },
   "outputs": [
    {
     "data": {
      "text/plain": [
       "710.61955669515987"
      ]
     },
     "execution_count": 161,
     "metadata": {},
     "output_type": "execute_result"
    }
   ],
   "source": [
    "km.inertia_"
   ]
  },
  {
   "cell_type": "code",
   "execution_count": 162,
   "metadata": {
    "collapsed": true
   },
   "outputs": [],
   "source": [
    "from sklearn.metrics import pairwise_distances_argmin_min\n",
    "from sklearn.metrics import pairwise_distances"
   ]
  },
  {
   "cell_type": "code",
   "execution_count": 163,
   "metadata": {
    "collapsed": true
   },
   "outputs": [],
   "source": [
    "closest, dist = pairwise_distances_argmin_min(km.cluster_centers_,text_matrix,metric='euclidean')"
   ]
  },
  {
   "cell_type": "code",
   "execution_count": 164,
   "metadata": {
    "collapsed": false
   },
   "outputs": [],
   "source": [
    "cluster_dist = pairwise_distances(km.cluster_centers_,km.cluster_centers_,metric='euclidean')"
   ]
  },
  {
   "cell_type": "code",
   "execution_count": 165,
   "metadata": {
    "collapsed": false
   },
   "outputs": [
    {
     "data": {
      "text/plain": [
       "array([[ 0.        ,  0.37792741,  0.20551173],\n",
       "       [ 0.37792741,  0.        ,  0.31992795],\n",
       "       [ 0.20551173,  0.31992795,  0.        ]])"
      ]
     },
     "execution_count": 165,
     "metadata": {},
     "output_type": "execute_result"
    }
   ],
   "source": [
    "cluster_dist"
   ]
  },
  {
   "cell_type": "code",
   "execution_count": 166,
   "metadata": {
    "collapsed": false
   },
   "outputs": [
    {
     "data": {
      "text/plain": [
       "array([259, 259, 259])"
      ]
     },
     "execution_count": 166,
     "metadata": {},
     "output_type": "execute_result"
    }
   ],
   "source": [
    "closest"
   ]
  },
  {
   "cell_type": "code",
   "execution_count": 167,
   "metadata": {
    "collapsed": false
   },
   "outputs": [
    {
     "data": {
      "text/html": [
       "<div>\n",
       "<table border=\"1\" class=\"dataframe\">\n",
       "  <thead>\n",
       "    <tr style=\"text-align: right;\">\n",
       "      <th></th>\n",
       "      <th>Name</th>\n",
       "      <th>Year</th>\n",
       "      <th>Position</th>\n",
       "      <th>Height</th>\n",
       "      <th>Weight</th>\n",
       "      <th>Pick</th>\n",
       "      <th>Vertical</th>\n",
       "      <th>Cluster</th>\n",
       "      <th>Topic</th>\n",
       "      <th>Frequent</th>\n",
       "    </tr>\n",
       "  </thead>\n",
       "  <tbody>\n",
       "    <tr>\n",
       "      <th>451</th>\n",
       "      <td>Acie Law</td>\n",
       "      <td>2007</td>\n",
       "      <td>1</td>\n",
       "      <td>76</td>\n",
       "      <td>186</td>\n",
       "      <td>11</td>\n",
       "      <td>34</td>\n",
       "      <td>1</td>\n",
       "      <td>1</td>\n",
       "      <td>{u'good': 12, u'mid': 11, u'nice': 11}</td>\n",
       "    </tr>\n",
       "  </tbody>\n",
       "</table>\n",
       "</div>"
      ],
      "text/plain": [
       "         Name  Year  Position Height Weight  Pick  Vertical  Cluster  Topic  \\\n",
       "451  Acie Law  2007         1     76    186    11        34        1      1   \n",
       "\n",
       "                                   Frequent  \n",
       "451  {u'good': 12, u'mid': 11, u'nice': 11}  "
      ]
     },
     "execution_count": 167,
     "metadata": {},
     "output_type": "execute_result"
    }
   ],
   "source": [
    "frame.loc[[451]]"
   ]
  },
  {
   "cell_type": "code",
   "execution_count": 168,
   "metadata": {
    "collapsed": false
   },
   "outputs": [
    {
     "data": {
      "text/plain": [
       "21"
      ]
     },
     "execution_count": 168,
     "metadata": {},
     "output_type": "execute_result"
    }
   ],
   "source": [
    "frame.groupby('Cluster')['Position'].value_counts()[3]"
   ]
  },
  {
   "cell_type": "code",
   "execution_count": 76,
   "metadata": {
    "collapsed": false
   },
   "outputs": [
    {
     "data": {
      "text/plain": [
       "array([ 1. ,  1.5,  2. ,  2.5,  3. ,  3.5,  4. ,  4.5,  5. ])"
      ]
     },
     "execution_count": 76,
     "metadata": {},
     "output_type": "execute_result"
    }
   ],
   "source": [
    "np.arange(1,5.1,.5)"
   ]
  },
  {
   "cell_type": "code",
   "execution_count": 102,
   "metadata": {
    "collapsed": false
   },
   "outputs": [
    {
     "data": {
      "text/plain": [
       "array([ 2000.,  2001.,  2002.,  2003.,  2004.,  2005.,  2006.,  2007.,\n",
       "        2008.,  2009.,  2010.,  2011.,  2012.,  2013.,  2014.,  2015.])"
      ]
     },
     "execution_count": 102,
     "metadata": {},
     "output_type": "execute_result"
    }
   ],
   "source": [
    "np.arange(2000,2015.1,1)"
   ]
  },
  {
   "cell_type": "code",
   "execution_count": 103,
   "metadata": {
    "collapsed": false
   },
   "outputs": [],
   "source": [
    "def group_to_array(data,cluster):\n",
    "    a = []\n",
    "    d = {}\n",
    "    for i in range(cluster):\n",
    "        for position in np.arange(2000,2015.1,1):\n",
    "            d['position'] = position\n",
    "            try:\n",
    "                d['value'] = data[i][position]\n",
    "            except:\n",
    "                d['value'] = 0\n",
    "            d['topic'] = i\n",
    "            a.append(d)\n",
    "            d={}\n",
    "    return a"
   ]
  },
  {
   "cell_type": "code",
   "execution_count": 104,
   "metadata": {
    "collapsed": false,
    "scrolled": true
   },
   "outputs": [
    {
     "data": {
      "text/plain": [
       "Topic  Year\n",
       "0      2014    41\n",
       "       2010    36\n",
       "       2012    35\n",
       "       2011    31\n",
       "       2013    25\n",
       "       2003    24\n",
       "       2002    23\n",
       "       2004    23\n",
       "       2001    21\n",
       "       2009    20\n",
       "       2000    19\n",
       "       2005    17\n",
       "       2015    14\n",
       "       2008    10\n",
       "       2006     6\n",
       "       2007     6\n",
       "1      2007    28\n",
       "       2009    26\n",
       "       2006    23\n",
       "       2008    22\n",
       "       2013    19\n",
       "       2005    18\n",
       "       2011    14\n",
       "       2012    13\n",
       "       2015    13\n",
       "       2010    12\n",
       "       2014    10\n",
       "       2004     7\n",
       "       2000     4\n",
       "       2001     3\n",
       "       2003     3\n",
       "       2002     1\n",
       "2      2015    28\n",
       "       2008    26\n",
       "       2007    24\n",
       "       2006    22\n",
       "       2005    20\n",
       "       2009    10\n",
       "       2010     9\n",
       "       2013     9\n",
       "       2011     8\n",
       "       2001     7\n",
       "       2002     7\n",
       "       2012     7\n",
       "       2000     5\n",
       "       2003     5\n",
       "       2014     4\n",
       "       2004     3\n",
       "dtype: int64"
      ]
     },
     "execution_count": 104,
     "metadata": {},
     "output_type": "execute_result"
    }
   ],
   "source": [
    "frame.groupby('Topic')['Year'].value_counts()"
   ]
  },
  {
   "cell_type": "code",
   "execution_count": 105,
   "metadata": {
    "collapsed": false,
    "scrolled": true
   },
   "outputs": [
    {
     "name": "stderr",
     "output_type": "stream",
     "text": [
      "/home/michael/anaconda2/lib/python2.7/site-packages/ipykernel/__main__.py:8: FutureWarning: scalar indexers for index type Int64Index should be integers and not floating point\n"
     ]
    },
    {
     "data": {
      "text/plain": [
       "[{'position': 2000.0, 'topic': 0, 'value': 19},\n",
       " {'position': 2001.0, 'topic': 0, 'value': 21},\n",
       " {'position': 2002.0, 'topic': 0, 'value': 23},\n",
       " {'position': 2003.0, 'topic': 0, 'value': 24},\n",
       " {'position': 2004.0, 'topic': 0, 'value': 23},\n",
       " {'position': 2005.0, 'topic': 0, 'value': 17},\n",
       " {'position': 2006.0, 'topic': 0, 'value': 6},\n",
       " {'position': 2007.0, 'topic': 0, 'value': 6},\n",
       " {'position': 2008.0, 'topic': 0, 'value': 10},\n",
       " {'position': 2009.0, 'topic': 0, 'value': 20},\n",
       " {'position': 2010.0, 'topic': 0, 'value': 36},\n",
       " {'position': 2011.0, 'topic': 0, 'value': 31},\n",
       " {'position': 2012.0, 'topic': 0, 'value': 35},\n",
       " {'position': 2013.0, 'topic': 0, 'value': 25},\n",
       " {'position': 2014.0, 'topic': 0, 'value': 41},\n",
       " {'position': 2015.0, 'topic': 0, 'value': 14},\n",
       " {'position': 2000.0, 'topic': 1, 'value': 4},\n",
       " {'position': 2001.0, 'topic': 1, 'value': 3},\n",
       " {'position': 2002.0, 'topic': 1, 'value': 1},\n",
       " {'position': 2003.0, 'topic': 1, 'value': 3},\n",
       " {'position': 2004.0, 'topic': 1, 'value': 7},\n",
       " {'position': 2005.0, 'topic': 1, 'value': 18},\n",
       " {'position': 2006.0, 'topic': 1, 'value': 23},\n",
       " {'position': 2007.0, 'topic': 1, 'value': 28},\n",
       " {'position': 2008.0, 'topic': 1, 'value': 22},\n",
       " {'position': 2009.0, 'topic': 1, 'value': 26},\n",
       " {'position': 2010.0, 'topic': 1, 'value': 12},\n",
       " {'position': 2011.0, 'topic': 1, 'value': 14},\n",
       " {'position': 2012.0, 'topic': 1, 'value': 13},\n",
       " {'position': 2013.0, 'topic': 1, 'value': 19},\n",
       " {'position': 2014.0, 'topic': 1, 'value': 10},\n",
       " {'position': 2015.0, 'topic': 1, 'value': 13},\n",
       " {'position': 2000.0, 'topic': 2, 'value': 5},\n",
       " {'position': 2001.0, 'topic': 2, 'value': 7},\n",
       " {'position': 2002.0, 'topic': 2, 'value': 7},\n",
       " {'position': 2003.0, 'topic': 2, 'value': 5},\n",
       " {'position': 2004.0, 'topic': 2, 'value': 3},\n",
       " {'position': 2005.0, 'topic': 2, 'value': 20},\n",
       " {'position': 2006.0, 'topic': 2, 'value': 22},\n",
       " {'position': 2007.0, 'topic': 2, 'value': 24},\n",
       " {'position': 2008.0, 'topic': 2, 'value': 26},\n",
       " {'position': 2009.0, 'topic': 2, 'value': 10},\n",
       " {'position': 2010.0, 'topic': 2, 'value': 9},\n",
       " {'position': 2011.0, 'topic': 2, 'value': 8},\n",
       " {'position': 2012.0, 'topic': 2, 'value': 7},\n",
       " {'position': 2013.0, 'topic': 2, 'value': 9},\n",
       " {'position': 2014.0, 'topic': 2, 'value': 4},\n",
       " {'position': 2015.0, 'topic': 2, 'value': 28}]"
      ]
     },
     "execution_count": 105,
     "metadata": {},
     "output_type": "execute_result"
    }
   ],
   "source": [
    "group_to_array(frame.groupby('Topic')['Year'].value_counts(),3)"
   ]
  },
  {
   "cell_type": "code",
   "execution_count": 80,
   "metadata": {
    "collapsed": false
   },
   "outputs": [
    {
     "data": {
      "text/plain": [
       "Position\n",
       "4.0    81\n",
       "5.0    68\n",
       "4.5    41\n",
       "3.5    21\n",
       "3.0    12\n",
       "2.5     1\n",
       "dtype: int64"
      ]
     },
     "execution_count": 80,
     "metadata": {},
     "output_type": "execute_result"
    }
   ],
   "source": [
    "frame.groupby('Cluster')['Position'].value_counts()[0]"
   ]
  },
  {
   "cell_type": "markdown",
   "metadata": {},
   "source": [
    "# Viz"
   ]
  },
  {
   "cell_type": "code",
   "execution_count": 59,
   "metadata": {
    "collapsed": false
   },
   "outputs": [],
   "source": [
    "from sklearn.metrics.pairwise import cosine_similarity\n",
    "dist = 1 - cosine_similarity(text_matrix)"
   ]
  },
  {
   "cell_type": "code",
   "execution_count": 60,
   "metadata": {
    "collapsed": false
   },
   "outputs": [],
   "source": [
    "\n",
    "import os  # for os.path.basename\n",
    "\n",
    "from sklearn.manifold import MDS\n",
    "\n",
    "MDS()\n",
    "\n",
    "# convert two components as we're plotting points in a two-dimensional plane\n",
    "# \"precomputed\" because we provide a distance matrix\n",
    "# we will also specify `random_state` so the plot is reproducible.\n",
    "mds = MDS(n_components=2, dissimilarity=\"precomputed\", random_state=1)\n",
    "\n",
    "pos = mds.fit_transform(dist)  # shape (n_components, n_samples)\n",
    "\n",
    "xs, ys = pos[:, 0], pos[:, 1]"
   ]
  },
  {
   "cell_type": "code",
   "execution_count": 60,
   "metadata": {
    "collapsed": true
   },
   "outputs": [],
   "source": [
    "\n",
    "#set up colors per clusters using a dict\n",
    "cluster_colors = {0: '#1b9e77', 1: '#d95f02', 2: '#7570b3', 3: '#e7298a', 4: '#66a61e'}\n",
    "\n",
    "#set up cluster names using a dict\n",
    "cluster_names = {0: 'Family, home, war', \n",
    "                 1: 'Police, killed, murders', \n",
    "                 2: 'Father, New York, brothers', \n",
    "                 3: 'Dance, singing, love', \n",
    "                 4: 'Killed, soldiers, captain'}"
   ]
  },
  {
   "cell_type": "code",
   "execution_count": 61,
   "metadata": {
    "collapsed": false,
    "scrolled": true
   },
   "outputs": [
    {
     "data": {
      "image/png": "[encoded data removed]",
      "text/plain": [
       "<matplotlib.figure.Figure at 0x7f0f7cdb5250>"
      ]
     },
     "metadata": {},
     "output_type": "display_data"
    }
   ],
   "source": [
    "#some ipython magic to show the matplotlib plots inline\n",
    "%matplotlib inline \n",
    "\n",
    "#create data frame that has the result of the MDS plus the cluster numbers and titles\n",
    "df = pd.DataFrame(dict(x=xs, y=ys, label=frame['Cluster'], title=frame['Name']),index=range(len(frame))) \n",
    "\n",
    "#group by cluster\n",
    "groups = df.groupby('label')\n",
    "\n",
    "\n",
    "# set up plot\n",
    "fig, ax = plt.subplots(figsize=(17, 9)) # set size\n",
    "ax.margins(0.05) # Optional, just adds 5% padding to the autoscaling\n",
    "\n",
    "#iterate through groups to layer the plot\n",
    "#note that I use the cluster_name and cluster_color dicts with the 'name' lookup to return the appropriate color/label\n",
    "for name, group in groups:\n",
    "    ax.plot(group.x, group.y, marker='o', linestyle='', ms=12, \n",
    "            label=cluster_names[name], color=cluster_colors[name], \n",
    "            mec='none')\n",
    "    ax.set_aspect('auto')\n",
    "    ax.tick_params(\\\n",
    "        axis= 'x',          # changes apply to the x-axis\n",
    "        which='both',      # both major and minor ticks are affected\n",
    "        bottom='off',      # ticks along the bottom edge are off\n",
    "        top='off',         # ticks along the top edge are off\n",
    "        labelbottom='off')\n",
    "    ax.tick_params(\\\n",
    "        axis= 'y',         # changes apply to the y-axis\n",
    "        which='both',      # both major and minor ticks are affected\n",
    "        left='off',      # ticks along the bottom edge are off\n",
    "        top='off',         # ticks along the top edge are off\n",
    "        labelleft='off')\n",
    "    \n",
    "ax.legend(numpoints=1)  #show legend with only 1 point\n",
    "\n",
    "#add label in x,y position with the label as the film title\n",
    "# for i in range(len(df)):\n",
    "#     ax.text(df.ix[i]['x'], df.ix[i]['y'], df.ix[i]['title'], size=8)  \n",
    "\n",
    "    \n",
    "    \n",
    "plt.show() #show the plot\n",
    "\n",
    "#uncomment the below to save the plot if need be\n",
    "#plt.savefig('clusters_small_noaxes.png', dpi=200)"
   ]
  },
  {
   "cell_type": "code",
   "execution_count": 63,
   "metadata": {
    "collapsed": true
   },
   "outputs": [],
   "source": [
    "import seaborn as sns"
   ]
  },
  {
   "cell_type": "code",
   "execution_count": 64,
   "metadata": {
    "collapsed": false
   },
   "outputs": [
    {
     "data": {
      "text/plain": [
       "<matplotlib.axes._subplots.AxesSubplot at 0x7f0f7c13d5d0>"
      ]
     },
     "execution_count": 64,
     "metadata": {},
     "output_type": "execute_result"
    },
    {
     "data": {
      "image/png": "[encoded data removed]",
      "text/plain": [
       "<matplotlib.figure.Figure at 0x7f0f7c128f10>"
      ]
     },
     "metadata": {},
     "output_type": "display_data"
    }
   ],
   "source": [
    "sns.stripplot(frame['Cluster'],frame['Position'],jitter=.5)"
   ]
  },
  {
   "cell_type": "code",
   "execution_count": 66,
   "metadata": {
    "collapsed": false
   },
   "outputs": [
    {
     "data": {
      "text/html": [
       "<div>\n",
       "<table border=\"1\" class=\"dataframe\">\n",
       "  <thead>\n",
       "    <tr style=\"text-align: right;\">\n",
       "      <th></th>\n",
       "      <th>Name</th>\n",
       "      <th>Position</th>\n",
       "      <th>Cluster</th>\n",
       "      <th>Topic</th>\n",
       "      <th>Pick</th>\n",
       "      <th>Vertical</th>\n",
       "    </tr>\n",
       "  </thead>\n",
       "  <tbody>\n",
       "    <tr>\n",
       "      <th>0</th>\n",
       "      <td>Karl Towns</td>\n",
       "      <td>4.5</td>\n",
       "      <td>1</td>\n",
       "      <td>1</td>\n",
       "      <td>1</td>\n",
       "      <td>36.5</td>\n",
       "    </tr>\n",
       "    <tr>\n",
       "      <th>1</th>\n",
       "      <td>D'Angelo Russell</td>\n",
       "      <td>1.5</td>\n",
       "      <td>1</td>\n",
       "      <td>0</td>\n",
       "      <td>2</td>\n",
       "      <td>NaN</td>\n",
       "    </tr>\n",
       "    <tr>\n",
       "      <th>2</th>\n",
       "      <td>Jahlil Okafor</td>\n",
       "      <td>5.0</td>\n",
       "      <td>2</td>\n",
       "      <td>1</td>\n",
       "      <td>3</td>\n",
       "      <td>NaN</td>\n",
       "    </tr>\n",
       "    <tr>\n",
       "      <th>3</th>\n",
       "      <td>Kristaps Porzingis</td>\n",
       "      <td>4.0</td>\n",
       "      <td>3</td>\n",
       "      <td>1</td>\n",
       "      <td>4</td>\n",
       "      <td>NaN</td>\n",
       "    </tr>\n",
       "    <tr>\n",
       "      <th>4</th>\n",
       "      <td>Mario Hezonja</td>\n",
       "      <td>2.5</td>\n",
       "      <td>3</td>\n",
       "      <td>1</td>\n",
       "      <td>5</td>\n",
       "      <td>NaN</td>\n",
       "    </tr>\n",
       "  </tbody>\n",
       "</table>\n",
       "</div>"
      ],
      "text/plain": [
       "                 Name  Position  Cluster  Topic  Pick  Vertical\n",
       "0          Karl Towns       4.5        1      1     1      36.5\n",
       "1    D'Angelo Russell       1.5        1      0     2       NaN\n",
       "2       Jahlil Okafor       5.0        2      1     3       NaN\n",
       "3  Kristaps Porzingis       4.0        3      1     4       NaN\n",
       "4       Mario Hezonja       2.5        3      1     5       NaN"
      ]
     },
     "execution_count": 66,
     "metadata": {},
     "output_type": "execute_result"
    }
   ],
   "source": [
    "frame.head()"
   ]
  },
  {
   "cell_type": "code",
   "execution_count": 76,
   "metadata": {
    "collapsed": false
   },
   "outputs": [
    {
     "data": {
      "text/plain": [
       "<seaborn.axisgrid.PairGrid at 0x7f0f6a730990>"
      ]
     },
     "execution_count": 76,
     "metadata": {},
     "output_type": "execute_result"
    },
    {
     "data": {
      "image/png": "[encoded data removed]",
      "text/plain": [
       "<matplotlib.figure.Figure at 0x7f0f6a7307d0>"
      ]
     },
     "metadata": {},
     "output_type": "display_data"
    }
   ],
   "source": [
    "sns.pairplot(frame[['Position','Cluster','Topic','Pick']],dropna=True)"
   ]
  },
  {
   "cell_type": "markdown",
   "metadata": {
    "collapsed": true
   },
   "source": [
    "# LDA"
   ]
  },
  {
   "cell_type": "code",
   "execution_count": 124,
   "metadata": {
    "collapsed": true
   },
   "outputs": [],
   "source": [
    "import logging, gensim, bz2"
   ]
  },
  {
   "cell_type": "code",
   "execution_count": 1,
   "metadata": {
    "collapsed": false
   },
   "outputs": [
    {
     "ename": "NameError",
     "evalue": "name 'vector_' is not defined",
     "output_type": "error",
     "traceback": [
      "\u001b[1;31m---------------------------------------------------------------------------\u001b[0m",
      "\u001b[1;31mNameError\u001b[0m                                 Traceback (most recent call last)",
      "\u001b[1;32m<ipython-input-1-dc1d033a414c>\u001b[0m in \u001b[0;36m<module>\u001b[1;34m()\u001b[0m\n\u001b[1;32m----> 1\u001b[1;33m \u001b[0mvector_\u001b[0m\u001b[1;33m\u001b[0m\u001b[0m\n\u001b[0m",
      "\u001b[1;31mNameError\u001b[0m: name 'vector_' is not defined"
     ]
    }
   ],
   "source": [
    "vector_"
   ]
  },
  {
   "cell_type": "code",
   "execution_count": null,
   "metadata": {
    "collapsed": true
   },
   "outputs": [],
   "source": []
  }
 ],
 "metadata": {
  "kernelspec": {
   "display_name": "Python 2",
   "language": "python",
   "name": "python2"
  },
  "language_info": {
   "codemirror_mode": {
    "name": "ipython",
    "version": 2
   },
   "file_extension": ".py",
   "mimetype": "text/x-python",
   "name": "python",
   "nbconvert_exporter": "python",
   "pygments_lexer": "ipython2",
   "version": "2.7.11"
  }
 },
 "nbformat": 4,
 "nbformat_minor": 0
}
